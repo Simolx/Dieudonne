{
  "nbformat": 4,
  "nbformat_minor": 0,
  "metadata": {
    "colab": {
      "name": "chapter2.ipynb",
      "version": "0.3.2",
      "provenance": [],
      "collapsed_sections": [],
      "include_colab_link": true
    },
    "kernelspec": {
      "name": "python3",
      "display_name": "Python 3"
    },
    "accelerator": "GPU"
  },
  "cells": [
    {
      "cell_type": "markdown",
      "metadata": {
        "id": "view-in-github",
        "colab_type": "text"
      },
      "source": [
        "<a href=\"https://colab.research.google.com/github/Simolx/Dieudonne/blob/develop/DL_python/chapter2.ipynb\" target=\"_parent\"><img src=\"https://colab.research.google.com/assets/colab-badge.svg\" alt=\"Open In Colab\"/></a>"
      ]
    },
    {
      "metadata": {
        "id": "H2breAaNwB0c",
        "colab_type": "text"
      },
      "cell_type": "markdown",
      "source": [
        "# 第2章 神经网络的数学基础\n"
      ]
    },
    {
      "metadata": {
        "id": "3Y25mezszyFr",
        "colab_type": "text"
      },
      "cell_type": "markdown",
      "source": [
        "## 2.1 初识神经网络"
      ]
    },
    {
      "metadata": {
        "id": "3JFB1sAqz1BC",
        "colab_type": "text"
      },
      "cell_type": "markdown",
      "source": [
        "**加载Keras中的MNIST数据集**"
      ]
    },
    {
      "metadata": {
        "id": "sdMG58CasYa0",
        "colab_type": "code",
        "cellView": "both",
        "outputId": "75132678-70fe-42a1-d037-ea8c7b4c29ee",
        "colab": {
          "base_uri": "https://localhost:8080/",
          "height": 68
        }
      },
      "cell_type": "code",
      "source": [
        "from keras.datasets import mnist\n",
        "(train_images, train_labels), (test_images, test_labels) = mnist.load_data()"
      ],
      "execution_count": 0,
      "outputs": [
        {
          "output_type": "stream",
          "text": [
            "Using TensorFlow backend.\n"
          ],
          "name": "stderr"
        },
        {
          "output_type": "stream",
          "text": [
            "Downloading data from https://s3.amazonaws.com/img-datasets/mnist.npz\n",
            "11493376/11490434 [==============================] - 2s 0us/step\n"
          ],
          "name": "stdout"
        }
      ]
    },
    {
      "metadata": {
        "id": "DUvjhQclzswa",
        "colab_type": "text"
      },
      "cell_type": "markdown",
      "source": [
        "查看数据情况"
      ]
    },
    {
      "metadata": {
        "id": "9NlC63gDymew",
        "colab_type": "code",
        "colab": {}
      },
      "cell_type": "code",
      "source": [
        "s = mnist.load_data()"
      ],
      "execution_count": 0,
      "outputs": []
    },
    {
      "metadata": {
        "id": "1XuSJAIJyq1n",
        "colab_type": "code",
        "outputId": "d5c0881a-0d79-40e6-a915-80b6a5f7fda9",
        "colab": {
          "base_uri": "https://localhost:8080/",
          "height": 85
        }
      },
      "cell_type": "code",
      "source": [
        "print(type(s), type(s[0]), type(s[1]))\n",
        "print(len(s), len(s[0]), len(s[1]))\n",
        "print(len(s[0][0]))\n",
        "print(len(s[1][0]))"
      ],
      "execution_count": 0,
      "outputs": [
        {
          "output_type": "stream",
          "text": [
            "<class 'tuple'> <class 'tuple'> <class 'tuple'>\n",
            "2 2 2\n",
            "60000\n",
            "10000\n"
          ],
          "name": "stdout"
        }
      ]
    },
    {
      "metadata": {
        "id": "shN2LDOpw4Z6",
        "colab_type": "code",
        "cellView": "both",
        "outputId": "5a52cb29-f168-4c48-d558-d8bb1d58ef5a",
        "colab": {
          "base_uri": "https://localhost:8080/",
          "height": 119
        }
      },
      "cell_type": "code",
      "source": [
        "print(train_images.shape)\n",
        "print(train_labels.shape)\n",
        "print(train_images.ndim, train_labels.ndim)\n",
        "print(train_images.dtype, train_labels.dtype)\n",
        "print(train_labels)\n",
        "print(test_images.shape)\n"
      ],
      "execution_count": 0,
      "outputs": [
        {
          "output_type": "stream",
          "text": [
            "(60000, 28, 28)\n",
            "(60000,)\n",
            "3 1\n",
            "uint8 uint8\n",
            "[5 0 4 ... 5 6 8]\n",
            "(10000, 28, 28)\n"
          ],
          "name": "stdout"
        }
      ]
    },
    {
      "metadata": {
        "id": "q3U-uDCNN6Db",
        "colab_type": "code",
        "outputId": "4c31bfca-3586-4a6e-f7fb-8cf7017d9d2c",
        "colab": {
          "base_uri": "https://localhost:8080/",
          "height": 347
        }
      },
      "cell_type": "code",
      "source": [
        "digit = train_images[4]\n",
        "\n",
        "import matplotlib.pyplot as plt\n",
        "plt.imshow(digit, cmap=plt.cm.binary)\n",
        "plt.show()"
      ],
      "execution_count": 0,
      "outputs": [
        {
          "output_type": "display_data",
          "data": {
            "image/png": "[encoded data removed]",
            "text/plain": [
              "<Figure size 576x396 with 1 Axes>"
            ]
          },
          "metadata": {
            "tags": []
          }
        }
      ]
    },
    {
      "metadata": {
        "id": "kBKsApfVznDs",
        "colab_type": "text"
      },
      "cell_type": "markdown",
      "source": [
        "**网络架构**"
      ]
    },
    {
      "metadata": {
        "id": "7aYBMsAdx1iC",
        "colab_type": "code",
        "colab": {}
      },
      "cell_type": "code",
      "source": [
        "from keras import models, layers\n",
        "\n",
        "network = models.Sequential()\n",
        "network.add(layers.Dense(512, activation='relu', input_shape=(28 * 28, )))\n",
        "network.add(layers.Dense(10, activation='softmax'))"
      ],
      "execution_count": 0,
      "outputs": []
    },
    {
      "metadata": {
        "id": "Pg1T4zHp0XWT",
        "colab_type": "code",
        "outputId": "606b757e-92cd-4b1a-e93d-9892920c847d",
        "colab": {
          "base_uri": "https://localhost:8080/",
          "height": 289
        }
      },
      "cell_type": "code",
      "source": [
        "help(network.add)"
      ],
      "execution_count": 0,
      "outputs": [
        {
          "output_type": "stream",
          "text": [
            "Help on method add in module keras.engine.sequential:\n",
            "\n",
            "add(layer) method of keras.engine.sequential.Sequential instance\n",
            "    Adds a layer instance on top of the layer stack.\n",
            "    \n",
            "    # Arguments\n",
            "        layer: layer instance.\n",
            "    \n",
            "    # Raises\n",
            "        TypeError: If `layer` is not a layer instance.\n",
            "        ValueError: In case the `layer` argument does not\n",
            "            know its input shape.\n",
            "        ValueError: In case the `layer` argument has\n",
            "            multiple output tensors, or is already connected\n",
            "            somewhere else (forbidden in `Sequential` models).\n",
            "\n"
          ],
          "name": "stdout"
        }
      ]
    },
    {
      "metadata": {
        "id": "FGJJYs510Y9l",
        "colab_type": "code",
        "outputId": "651aa974-1d18-4332-8c30-9aab6cb2d741",
        "colab": {
          "base_uri": "https://localhost:8080/",
          "height": 7738
        }
      },
      "cell_type": "code",
      "source": [
        "help(layers.Dense)"
      ],
      "execution_count": 0,
      "outputs": [
        {
          "output_type": "stream",
          "text": [
            "Help on class Dense in module keras.layers.core:\n",
            "\n",
            "class Dense(keras.engine.base_layer.Layer)\n",
            " |  Just your regular densely-connected NN layer.\n",
            " |  \n",
            " |  `Dense` implements the operation:\n",
            " |  `output = activation(dot(input, kernel) + bias)`\n",
            " |  where `activation` is the element-wise activation function\n",
            " |  passed as the `activation` argument, `kernel` is a weights matrix\n",
            " |  created by the layer, and `bias` is a bias vector created by the layer\n",
            " |  (only applicable if `use_bias` is `True`).\n",
            " |  \n",
            " |  Note: if the input to the layer has a rank greater than 2, then\n",
            " |  it is flattened prior to the initial dot product with `kernel`.\n",
            " |  \n",
            " |  # Example\n",
            " |  \n",
            " |  ```python\n",
            " |      # as first layer in a sequential model:\n",
            " |      model = Sequential()\n",
            " |      model.add(Dense(32, input_shape=(16,)))\n",
            " |      # now the model will take as input arrays of shape (*, 16)\n",
            " |      # and output arrays of shape (*, 32)\n",
            " |  \n",
            " |      # after the first layer, you don't need to specify\n",
            " |      # the size of the input anymore:\n",
            " |      model.add(Dense(32))\n",
            " |  ```\n",
            " |  \n",
            " |  # Arguments\n",
            " |      units: Positive integer, dimensionality of the output space.\n",
            " |      activation: Activation function to use\n",
            " |          (see [activations](../activations.md)).\n",
            " |          If you don't specify anything, no activation is applied\n",
            " |          (ie. \"linear\" activation: `a(x) = x`).\n",
            " |      use_bias: Boolean, whether the layer uses a bias vector.\n",
            " |      kernel_initializer: Initializer for the `kernel` weights matrix\n",
            " |          (see [initializers](../initializers.md)).\n",
            " |      bias_initializer: Initializer for the bias vector\n",
            " |          (see [initializers](../initializers.md)).\n",
            " |      kernel_regularizer: Regularizer function applied to\n",
            " |          the `kernel` weights matrix\n",
            " |          (see [regularizer](../regularizers.md)).\n",
            " |      bias_regularizer: Regularizer function applied to the bias vector\n",
            " |          (see [regularizer](../regularizers.md)).\n",
            " |      activity_regularizer: Regularizer function applied to\n",
            " |          the output of the layer (its \"activation\").\n",
            " |          (see [regularizer](../regularizers.md)).\n",
            " |      kernel_constraint: Constraint function applied to\n",
            " |          the `kernel` weights matrix\n",
            " |          (see [constraints](../constraints.md)).\n",
            " |      bias_constraint: Constraint function applied to the bias vector\n",
            " |          (see [constraints](../constraints.md)).\n",
            " |  \n",
            " |  # Input shape\n",
            " |      nD tensor with shape: `(batch_size, ..., input_dim)`.\n",
            " |      The most common situation would be\n",
            " |      a 2D input with shape `(batch_size, input_dim)`.\n",
            " |  \n",
            " |  # Output shape\n",
            " |      nD tensor with shape: `(batch_size, ..., units)`.\n",
            " |      For instance, for a 2D input with shape `(batch_size, input_dim)`,\n",
            " |      the output would have shape `(batch_size, units)`.\n",
            " |  \n",
            " |  Method resolution order:\n",
            " |      Dense\n",
            " |      keras.engine.base_layer.Layer\n",
            " |      builtins.object\n",
            " |  \n",
            " |  Methods defined here:\n",
            " |  \n",
            " |  __init__(self, units, activation=None, use_bias=True, kernel_initializer='glorot_uniform', bias_initializer='zeros', kernel_regularizer=None, bias_regularizer=None, activity_regularizer=None, kernel_constraint=None, bias_constraint=None, **kwargs)\n",
            " |      Initialize self.  See help(type(self)) for accurate signature.\n",
            " |  \n",
            " |  build(self, input_shape)\n",
            " |      Creates the layer weights.\n",
            " |      \n",
            " |      Must be implemented on all layers that have weights.\n",
            " |      \n",
            " |      # Arguments\n",
            " |          input_shape: Keras tensor (future input to layer)\n",
            " |              or list/tuple of Keras tensors to reference\n",
            " |              for weight shape computations.\n",
            " |  \n",
            " |  call(self, inputs)\n",
            " |      This is where the layer's logic lives.\n",
            " |      \n",
            " |      # Arguments\n",
            " |          inputs: Input tensor, or list/tuple of input tensors.\n",
            " |          **kwargs: Additional keyword arguments.\n",
            " |      \n",
            " |      # Returns\n",
            " |          A tensor or list/tuple of tensors.\n",
            " |  \n",
            " |  compute_output_shape(self, input_shape)\n",
            " |      Computes the output shape of the layer.\n",
            " |      \n",
            " |      Assumes that the layer will be built\n",
            " |      to match that input shape provided.\n",
            " |      \n",
            " |      # Arguments\n",
            " |          input_shape: Shape tuple (tuple of integers)\n",
            " |              or list of shape tuples (one per output tensor of the layer).\n",
            " |              Shape tuples can include None for free dimensions,\n",
            " |              instead of an integer.\n",
            " |      \n",
            " |      # Returns\n",
            " |          An input shape tuple.\n",
            " |  \n",
            " |  get_config(self)\n",
            " |      Returns the config of the layer.\n",
            " |      \n",
            " |      A layer config is a Python dictionary (serializable)\n",
            " |      containing the configuration of a layer.\n",
            " |      The same layer can be reinstantiated later\n",
            " |      (without its trained weights) from this configuration.\n",
            " |      \n",
            " |      The config of a layer does not include connectivity\n",
            " |      information, nor the layer class name. These are handled\n",
            " |      by `Network` (one layer of abstraction above).\n",
            " |      \n",
            " |      # Returns\n",
            " |          Python dictionary.\n",
            " |  \n",
            " |  ----------------------------------------------------------------------\n",
            " |  Methods inherited from keras.engine.base_layer.Layer:\n",
            " |  \n",
            " |  __call__(self, inputs, **kwargs)\n",
            " |      Wrapper around self.call(), for handling internal references.\n",
            " |      \n",
            " |      If a Keras tensor is passed:\n",
            " |          - We call self._add_inbound_node().\n",
            " |          - If necessary, we `build` the layer to match\n",
            " |              the _keras_shape of the input(s).\n",
            " |          - We update the _keras_shape of every input tensor with\n",
            " |              its new shape (obtained via self.compute_output_shape).\n",
            " |              This is done as part of _add_inbound_node().\n",
            " |          - We update the _keras_history of the output tensor(s)\n",
            " |              with the current layer.\n",
            " |              This is done as part of _add_inbound_node().\n",
            " |      \n",
            " |      # Arguments\n",
            " |          inputs: Can be a tensor or list/tuple of tensors.\n",
            " |          **kwargs: Additional keyword arguments to be passed to `call()`.\n",
            " |      \n",
            " |      # Returns\n",
            " |          Output of the layer's `call` method.\n",
            " |      \n",
            " |      # Raises\n",
            " |          ValueError: in case the layer is missing shape information\n",
            " |              for its `build` call.\n",
            " |  \n",
            " |  add_loss(self, losses, inputs=None)\n",
            " |      Adds losses to the layer.\n",
            " |      \n",
            " |      The loss may potentially be conditional on some inputs tensors,\n",
            " |      for instance activity losses are conditional on the layer's inputs.\n",
            " |      \n",
            " |      # Arguments\n",
            " |          losses: loss tensor or list of loss tensors\n",
            " |              to add to the layer.\n",
            " |          inputs: input tensor or list of inputs tensors to mark\n",
            " |              the losses as conditional on these inputs.\n",
            " |              If None is passed, the loss is assumed unconditional\n",
            " |              (e.g. L2 weight regularization, which only depends\n",
            " |              on the layer's weights variables, not on any inputs tensors).\n",
            " |  \n",
            " |  add_update(self, updates, inputs=None)\n",
            " |      Adds updates to the layer.\n",
            " |      \n",
            " |      The updates may potentially be conditional on some inputs tensors,\n",
            " |      for instance batch norm updates are conditional on the layer's inputs.\n",
            " |      \n",
            " |      # Arguments\n",
            " |          updates: update op or list of update ops\n",
            " |              to add to the layer.\n",
            " |          inputs: input tensor or list of inputs tensors to mark\n",
            " |              the updates as conditional on these inputs.\n",
            " |              If None is passed, the updates are assumed unconditional.\n",
            " |  \n",
            " |  add_weight(self, name, shape, dtype=None, initializer=None, regularizer=None, trainable=True, constraint=None)\n",
            " |      Adds a weight variable to the layer.\n",
            " |      \n",
            " |      # Arguments\n",
            " |          name: String, the name for the weight variable.\n",
            " |          shape: The shape tuple of the weight.\n",
            " |          dtype: The dtype of the weight.\n",
            " |          initializer: An Initializer instance (callable).\n",
            " |          regularizer: An optional Regularizer instance.\n",
            " |          trainable: A boolean, whether the weight should\n",
            " |              be trained via backprop or not (assuming\n",
            " |              that the layer itself is also trainable).\n",
            " |          constraint: An optional Constraint instance.\n",
            " |      \n",
            " |      # Returns\n",
            " |          The created weight variable.\n",
            " |  \n",
            " |  assert_input_compatibility(self, inputs)\n",
            " |      Checks compatibility between the layer and provided inputs.\n",
            " |      \n",
            " |      This checks that the tensor(s) `input`\n",
            " |      verify the input assumptions of the layer\n",
            " |      (if any). If not, exceptions are raised.\n",
            " |      \n",
            " |      # Arguments\n",
            " |          inputs: input tensor or list of input tensors.\n",
            " |      \n",
            " |      # Raises\n",
            " |          ValueError: in case of mismatch between\n",
            " |              the provided inputs and the expectations of the layer.\n",
            " |  \n",
            " |  compute_mask(self, inputs, mask=None)\n",
            " |      Computes an output mask tensor.\n",
            " |      \n",
            " |      # Arguments\n",
            " |          inputs: Tensor or list of tensors.\n",
            " |          mask: Tensor or list of tensors.\n",
            " |      \n",
            " |      # Returns\n",
            " |          None or a tensor (or list of tensors,\n",
            " |              one per output tensor of the layer).\n",
            " |  \n",
            " |  count_params(self)\n",
            " |      Counts the total number of scalars composing the weights.\n",
            " |      \n",
            " |      # Returns\n",
            " |          An integer count.\n",
            " |      \n",
            " |      # Raises\n",
            " |          RuntimeError: if the layer isn't yet built\n",
            " |              (in which case its weights aren't yet defined).\n",
            " |  \n",
            " |  get_input_at(self, node_index)\n",
            " |      Retrieves the input tensor(s) of a layer at a given node.\n",
            " |      \n",
            " |      # Arguments\n",
            " |          node_index: Integer, index of the node\n",
            " |              from which to retrieve the attribute.\n",
            " |              E.g. `node_index=0` will correspond to the\n",
            " |              first time the layer was called.\n",
            " |      \n",
            " |      # Returns\n",
            " |          A tensor (or list of tensors if the layer has multiple inputs).\n",
            " |  \n",
            " |  get_input_mask_at(self, node_index)\n",
            " |      Retrieves the input mask tensor(s) of a layer at a given node.\n",
            " |      \n",
            " |      # Arguments\n",
            " |          node_index: Integer, index of the node\n",
            " |              from which to retrieve the attribute.\n",
            " |              E.g. `node_index=0` will correspond to the\n",
            " |              first time the layer was called.\n",
            " |      \n",
            " |      # Returns\n",
            " |          A mask tensor\n",
            " |          (or list of tensors if the layer has multiple inputs).\n",
            " |  \n",
            " |  get_input_shape_at(self, node_index)\n",
            " |      Retrieves the input shape(s) of a layer at a given node.\n",
            " |      \n",
            " |      # Arguments\n",
            " |          node_index: Integer, index of the node\n",
            " |              from which to retrieve the attribute.\n",
            " |              E.g. `node_index=0` will correspond to the\n",
            " |              first time the layer was called.\n",
            " |      \n",
            " |      # Returns\n",
            " |          A shape tuple\n",
            " |          (or list of shape tuples if the layer has multiple inputs).\n",
            " |  \n",
            " |  get_losses_for(self, inputs)\n",
            " |  \n",
            " |  get_output_at(self, node_index)\n",
            " |      Retrieves the output tensor(s) of a layer at a given node.\n",
            " |      \n",
            " |      # Arguments\n",
            " |          node_index: Integer, index of the node\n",
            " |              from which to retrieve the attribute.\n",
            " |              E.g. `node_index=0` will correspond to the\n",
            " |              first time the layer was called.\n",
            " |      \n",
            " |      # Returns\n",
            " |          A tensor (or list of tensors if the layer has multiple outputs).\n",
            " |  \n",
            " |  get_output_mask_at(self, node_index)\n",
            " |      Retrieves the output mask tensor(s) of a layer at a given node.\n",
            " |      \n",
            " |      # Arguments\n",
            " |          node_index: Integer, index of the node\n",
            " |              from which to retrieve the attribute.\n",
            " |              E.g. `node_index=0` will correspond to the\n",
            " |              first time the layer was called.\n",
            " |      \n",
            " |      # Returns\n",
            " |          A mask tensor\n",
            " |          (or list of tensors if the layer has multiple outputs).\n",
            " |  \n",
            " |  get_output_shape_at(self, node_index)\n",
            " |      Retrieves the output shape(s) of a layer at a given node.\n",
            " |      \n",
            " |      # Arguments\n",
            " |          node_index: Integer, index of the node\n",
            " |              from which to retrieve the attribute.\n",
            " |              E.g. `node_index=0` will correspond to the\n",
            " |              first time the layer was called.\n",
            " |      \n",
            " |      # Returns\n",
            " |          A shape tuple\n",
            " |          (or list of shape tuples if the layer has multiple outputs).\n",
            " |  \n",
            " |  get_updates_for(self, inputs)\n",
            " |  \n",
            " |  get_weights(self)\n",
            " |      Returns the current weights of the layer.\n",
            " |      \n",
            " |      # Returns\n",
            " |          Weights values as a list of numpy arrays.\n",
            " |  \n",
            " |  set_weights(self, weights)\n",
            " |      Sets the weights of the layer, from Numpy arrays.\n",
            " |      \n",
            " |      # Arguments\n",
            " |          weights: a list of Numpy arrays. The number\n",
            " |              of arrays and their shape must match\n",
            " |              number of the dimensions of the weights\n",
            " |              of the layer (i.e. it should match the\n",
            " |              output of `get_weights`).\n",
            " |      \n",
            " |      # Raises\n",
            " |          ValueError: If the provided weights list does not match the\n",
            " |              layer's specifications.\n",
            " |  \n",
            " |  ----------------------------------------------------------------------\n",
            " |  Class methods inherited from keras.engine.base_layer.Layer:\n",
            " |  \n",
            " |  from_config(config) from builtins.type\n",
            " |      Creates a layer from its config.\n",
            " |      \n",
            " |      This method is the reverse of `get_config`,\n",
            " |      capable of instantiating the same layer from the config\n",
            " |      dictionary. It does not handle layer connectivity\n",
            " |      (handled by Network), nor weights (handled by `set_weights`).\n",
            " |      \n",
            " |      # Arguments\n",
            " |          config: A Python dictionary, typically the\n",
            " |              output of get_config.\n",
            " |      \n",
            " |      # Returns\n",
            " |          A layer instance.\n",
            " |  \n",
            " |  ----------------------------------------------------------------------\n",
            " |  Data descriptors inherited from keras.engine.base_layer.Layer:\n",
            " |  \n",
            " |  __dict__\n",
            " |      dictionary for instance variables (if defined)\n",
            " |  \n",
            " |  __weakref__\n",
            " |      list of weak references to the object (if defined)\n",
            " |  \n",
            " |  built\n",
            " |  \n",
            " |  input\n",
            " |      Retrieves the input tensor(s) of a layer.\n",
            " |      \n",
            " |      Only applicable if the layer has exactly one inbound node,\n",
            " |      i.e. if it is connected to one incoming layer.\n",
            " |      \n",
            " |      # Returns\n",
            " |          Input tensor or list of input tensors.\n",
            " |      \n",
            " |      # Raises\n",
            " |          AttributeError: if the layer is connected to\n",
            " |          more than one incoming layers.\n",
            " |  \n",
            " |  input_mask\n",
            " |      Retrieves the input mask tensor(s) of a layer.\n",
            " |      \n",
            " |      Only applicable if the layer has exactly one inbound node,\n",
            " |      i.e. if it is connected to one incoming layer.\n",
            " |      \n",
            " |      # Returns\n",
            " |          Input mask tensor (potentially None) or list of input\n",
            " |          mask tensors.\n",
            " |      \n",
            " |      # Raises\n",
            " |          AttributeError: if the layer is connected to\n",
            " |          more than one incoming layers.\n",
            " |  \n",
            " |  input_shape\n",
            " |      Retrieves the input shape tuple(s) of a layer.\n",
            " |      \n",
            " |      Only applicable if the layer has exactly one inbound node,\n",
            " |      i.e. if it is connected to one incoming layer.\n",
            " |      \n",
            " |      # Returns\n",
            " |          Input shape tuple\n",
            " |          (or list of input shape tuples, one tuple per input tensor).\n",
            " |      \n",
            " |      # Raises\n",
            " |          AttributeError: if the layer is connected to\n",
            " |          more than one incoming layers.\n",
            " |  \n",
            " |  losses\n",
            " |  \n",
            " |  non_trainable_weights\n",
            " |  \n",
            " |  output\n",
            " |      Retrieves the output tensor(s) of a layer.\n",
            " |      \n",
            " |      Only applicable if the layer has exactly one inbound node,\n",
            " |      i.e. if it is connected to one incoming layer.\n",
            " |      \n",
            " |      # Returns\n",
            " |          Output tensor or list of output tensors.\n",
            " |      \n",
            " |      # Raises\n",
            " |          AttributeError: if the layer is connected to\n",
            " |          more than one incoming layers.\n",
            " |  \n",
            " |  output_mask\n",
            " |      Retrieves the output mask tensor(s) of a layer.\n",
            " |      \n",
            " |      Only applicable if the layer has exactly one inbound node,\n",
            " |      i.e. if it is connected to one incoming layer.\n",
            " |      \n",
            " |      # Returns\n",
            " |          Output mask tensor (potentially None) or list of output\n",
            " |          mask tensors.\n",
            " |      \n",
            " |      # Raises\n",
            " |          AttributeError: if the layer is connected to\n",
            " |          more than one incoming layers.\n",
            " |  \n",
            " |  output_shape\n",
            " |      Retrieves the output shape tuple(s) of a layer.\n",
            " |      \n",
            " |      Only applicable if the layer has one inbound node,\n",
            " |      or if all inbound nodes have the same output shape.\n",
            " |      \n",
            " |      # Returns\n",
            " |          Output shape tuple\n",
            " |          (or list of input shape tuples, one tuple per output tensor).\n",
            " |      \n",
            " |      # Raises\n",
            " |          AttributeError: if the layer is connected to\n",
            " |          more than one incoming layers.\n",
            " |  \n",
            " |  trainable_weights\n",
            " |  \n",
            " |  updates\n",
            " |  \n",
            " |  weights\n",
            "\n"
          ],
          "name": "stdout"
        }
      ]
    },
    {
      "metadata": {
        "id": "pkIGfazJ2Vyd",
        "colab_type": "text"
      },
      "cell_type": "markdown",
      "source": [
        "**编译步骤**"
      ]
    },
    {
      "metadata": {
        "id": "aijOsPoZ1D7M",
        "colab_type": "code",
        "colab": {}
      },
      "cell_type": "code",
      "source": [
        "network.compile(optimizer='rmsprop',\n",
        "                loss='categorical_crossentropy',\n",
        "                metrics=['accuracy'])"
      ],
      "execution_count": 0,
      "outputs": []
    },
    {
      "metadata": {
        "id": "9Yny3mn84pME",
        "colab_type": "text"
      },
      "cell_type": "markdown",
      "source": [
        "**准备图像数据**"
      ]
    },
    {
      "metadata": {
        "id": "wcjEcpR02ocO",
        "colab_type": "code",
        "colab": {}
      },
      "cell_type": "code",
      "source": [
        "train_images = train_images.reshape((60000, 28 * 28))\n",
        "train_images = train_images.astype('float32') / 255\n",
        "\n",
        "test_images = test_images.reshape((10000, 28 * 28))\n",
        "test_images = test_images.astype('float32') / 255"
      ],
      "execution_count": 0,
      "outputs": []
    },
    {
      "metadata": {
        "id": "3LTpBE7V6LtH",
        "colab_type": "text"
      },
      "cell_type": "markdown",
      "source": [
        "**准备标签**"
      ]
    },
    {
      "metadata": {
        "id": "a7EBN5Oq6ByH",
        "colab_type": "code",
        "colab": {}
      },
      "cell_type": "code",
      "source": [
        "from keras.utils import to_categorical\n",
        "\n",
        "train_labels = to_categorical(train_labels)\n",
        "test_labels = to_categorical(test_labels)"
      ],
      "execution_count": 0,
      "outputs": []
    },
    {
      "metadata": {
        "id": "5LDbrOZk6h8Y",
        "colab_type": "code",
        "outputId": "b0a578b5-adaf-4066-bc53-d8f6905eed3e",
        "colab": {
          "base_uri": "https://localhost:8080/",
          "height": 1652
        }
      },
      "cell_type": "code",
      "source": [
        "help(network.fit)"
      ],
      "execution_count": 0,
      "outputs": [
        {
          "output_type": "stream",
          "text": [
            "Help on method fit in module keras.engine.training:\n",
            "\n",
            "fit(x=None, y=None, batch_size=None, epochs=1, verbose=1, callbacks=None, validation_split=0.0, validation_data=None, shuffle=True, class_weight=None, sample_weight=None, initial_epoch=0, steps_per_epoch=None, validation_steps=None, **kwargs) method of keras.engine.sequential.Sequential instance\n",
            "    Trains the model for a given number of epochs (iterations on a dataset).\n",
            "    \n",
            "    # Arguments\n",
            "        x: Numpy array of training data (if the model has a single input),\n",
            "            or list of Numpy arrays (if the model has multiple inputs).\n",
            "            If input layers in the model are named, you can also pass a\n",
            "            dictionary mapping input names to Numpy arrays.\n",
            "            `x` can be `None` (default) if feeding from\n",
            "            framework-native tensors (e.g. TensorFlow data tensors).\n",
            "        y: Numpy array of target (label) data\n",
            "            (if the model has a single output),\n",
            "            or list of Numpy arrays (if the model has multiple outputs).\n",
            "            If output layers in the model are named, you can also pass a\n",
            "            dictionary mapping output names to Numpy arrays.\n",
            "            `y` can be `None` (default) if feeding from\n",
            "            framework-native tensors (e.g. TensorFlow data tensors).\n",
            "        batch_size: Integer or `None`.\n",
            "            Number of samples per gradient update.\n",
            "            If unspecified, `batch_size` will default to 32.\n",
            "        epochs: Integer. Number of epochs to train the model.\n",
            "            An epoch is an iteration over the entire `x` and `y`\n",
            "            data provided.\n",
            "            Note that in conjunction with `initial_epoch`,\n",
            "            `epochs` is to be understood as \"final epoch\".\n",
            "            The model is not trained for a number of iterations\n",
            "            given by `epochs`, but merely until the epoch\n",
            "            of index `epochs` is reached.\n",
            "        verbose: Integer. 0, 1, or 2. Verbosity mode.\n",
            "            0 = silent, 1 = progress bar, 2 = one line per epoch.\n",
            "        callbacks: List of `keras.callbacks.Callback` instances.\n",
            "            List of callbacks to apply during training.\n",
            "            See [callbacks](/callbacks).\n",
            "        validation_split: Float between 0 and 1.\n",
            "            Fraction of the training data to be used as validation data.\n",
            "            The model will set apart this fraction of the training data,\n",
            "            will not train on it, and will evaluate\n",
            "            the loss and any model metrics\n",
            "            on this data at the end of each epoch.\n",
            "            The validation data is selected from the last samples\n",
            "            in the `x` and `y` data provided, before shuffling.\n",
            "        validation_data: tuple `(x_val, y_val)` or tuple\n",
            "            `(x_val, y_val, val_sample_weights)` on which to evaluate\n",
            "            the loss and any model metrics at the end of each epoch.\n",
            "            The model will not be trained on this data.\n",
            "            `validation_data` will override `validation_split`.\n",
            "        shuffle: Boolean (whether to shuffle the training data\n",
            "            before each epoch) or str (for 'batch').\n",
            "            'batch' is a special option for dealing with the\n",
            "            limitations of HDF5 data; it shuffles in batch-sized chunks.\n",
            "            Has no effect when `steps_per_epoch` is not `None`.\n",
            "        class_weight: Optional dictionary mapping class indices (integers)\n",
            "            to a weight (float) value, used for weighting the loss function\n",
            "            (during training only).\n",
            "            This can be useful to tell the model to\n",
            "            \"pay more attention\" to samples from\n",
            "            an under-represented class.\n",
            "        sample_weight: Optional Numpy array of weights for\n",
            "            the training samples, used for weighting the loss function\n",
            "            (during training only). You can either pass a flat (1D)\n",
            "            Numpy array with the same length as the input samples\n",
            "            (1:1 mapping between weights and samples),\n",
            "            or in the case of temporal data,\n",
            "            you can pass a 2D array with shape\n",
            "            `(samples, sequence_length)`,\n",
            "            to apply a different weight to every timestep of every sample.\n",
            "            In this case you should make sure to specify\n",
            "            `sample_weight_mode=\"temporal\"` in `compile()`.\n",
            "        initial_epoch: Integer.\n",
            "            Epoch at which to start training\n",
            "            (useful for resuming a previous training run).\n",
            "        steps_per_epoch: Integer or `None`.\n",
            "            Total number of steps (batches of samples)\n",
            "            before declaring one epoch finished and starting the\n",
            "            next epoch. When training with input tensors such as\n",
            "            TensorFlow data tensors, the default `None` is equal to\n",
            "            the number of samples in your dataset divided by\n",
            "            the batch size, or 1 if that cannot be determined.\n",
            "        validation_steps: Only relevant if `steps_per_epoch`\n",
            "            is specified. Total number of steps (batches of samples)\n",
            "            to validate before stopping.\n",
            "    \n",
            "    # Returns\n",
            "        A `History` object. Its `History.history` attribute is\n",
            "        a record of training loss values and metrics values\n",
            "        at successive epochs, as well as validation loss values\n",
            "        and validation metrics values (if applicable).\n",
            "    \n",
            "    # Raises\n",
            "        RuntimeError: If the model was never compiled.\n",
            "        ValueError: In case of mismatch between the provided input data\n",
            "            and what the model expects.\n",
            "\n"
          ],
          "name": "stdout"
        }
      ]
    },
    {
      "metadata": {
        "id": "EwWmFZTa6TUb",
        "colab_type": "code",
        "outputId": "09465adc-c787-419b-a6c9-286ff1aae7ec",
        "colab": {
          "base_uri": "https://localhost:8080/",
          "height": 224
        }
      },
      "cell_type": "code",
      "source": [
        "network.fit(train_images, train_labels, epochs=5, batch_size=128)"
      ],
      "execution_count": 0,
      "outputs": [
        {
          "output_type": "stream",
          "text": [
            "Epoch 1/5\n",
            "60000/60000 [==============================] - 5s 77us/step - loss: 0.2573 - acc: 0.9260\n",
            "Epoch 2/5\n",
            "60000/60000 [==============================] - 2s 41us/step - loss: 0.1045 - acc: 0.9690\n",
            "Epoch 3/5\n",
            "60000/60000 [==============================] - 2s 41us/step - loss: 0.0691 - acc: 0.9794\n",
            "Epoch 4/5\n",
            "60000/60000 [==============================] - 2s 41us/step - loss: 0.0494 - acc: 0.9852\n",
            "Epoch 5/5\n",
            "60000/60000 [==============================] - 3s 42us/step - loss: 0.0373 - acc: 0.9889\n"
          ],
          "name": "stdout"
        },
        {
          "output_type": "execute_result",
          "data": {
            "text/plain": [
              "<keras.callbacks.History at 0x7f036d44ba58>"
            ]
          },
          "metadata": {
            "tags": []
          },
          "execution_count": 13
        }
      ]
    },
    {
      "metadata": {
        "id": "CNBNzkJI7vSR",
        "colab_type": "code",
        "outputId": "1c3488da-df4a-499f-a8f9-ef020d1a0396",
        "colab": {
          "base_uri": "https://localhost:8080/",
          "height": 68
        }
      },
      "cell_type": "code",
      "source": [
        "test_loss, test_acc = network.evaluate(test_images, test_labels)\n",
        "print('test_loss:', test_loss)\n",
        "print('test_acc:', test_acc)"
      ],
      "execution_count": 0,
      "outputs": [
        {
          "output_type": "stream",
          "text": [
            "10000/10000 [==============================] - 1s 65us/step\n",
            "test_loss: 0.07492900404813699\n",
            "test_acc: 0.9782\n"
          ],
          "name": "stdout"
        }
      ]
    },
    {
      "metadata": {
        "id": "8W9e1I3z9pR5",
        "colab_type": "text"
      },
      "cell_type": "markdown",
      "source": [
        "## 2.2 神经网络的数据表示"
      ]
    },
    {
      "metadata": {
        "id": "3QaMUMCg74vI",
        "colab_type": "code",
        "colab": {}
      },
      "cell_type": "code",
      "source": [
        ""
      ],
      "execution_count": 0,
      "outputs": []
    },
    {
      "metadata": {
        "id": "Y5sbRLyDvs6i",
        "colab_type": "text"
      },
      "cell_type": "markdown",
      "source": [
        "# 第3章 神经网络入门"
      ]
    },
    {
      "metadata": {
        "id": "G9fHKKB6vzO_",
        "colab_type": "text"
      },
      "cell_type": "markdown",
      "source": [
        "## 3.4 电影评论分类：二分类问题"
      ]
    },
    {
      "metadata": {
        "id": "uEW_kN3Rv_0N",
        "colab_type": "text"
      },
      "cell_type": "markdown",
      "source": [
        "### 3.4.1 IMDB数据集"
      ]
    },
    {
      "metadata": {
        "id": "R96ZaCl-vyIF",
        "colab_type": "code",
        "outputId": "73466d2e-5934-4e63-fdcb-e98dba56a3f7",
        "colab": {
          "base_uri": "https://localhost:8080/",
          "height": 51
        }
      },
      "cell_type": "code",
      "source": [
        "from keras.datasets import imdb\n",
        "(train_data, train_labels), (test_data, test_labels) = imdb.load_data(num_words=10000)"
      ],
      "execution_count": 0,
      "outputs": [
        {
          "output_type": "stream",
          "text": [
            "Downloading data from https://s3.amazonaws.com/text-datasets/imdb.npz\n",
            "17465344/17464789 [==============================] - 0s 0us/step\n"
          ],
          "name": "stdout"
        }
      ]
    },
    {
      "metadata": {
        "id": "QTlh-I9gwdf0",
        "colab_type": "text"
      },
      "cell_type": "markdown",
      "source": [
        "0: negative, 1: positive"
      ]
    },
    {
      "metadata": {
        "id": "N1gEyLkCv71q",
        "colab_type": "code",
        "outputId": "b68c4418-453f-4992-abe2-82ef7b052e5d",
        "colab": {
          "base_uri": "https://localhost:8080/",
          "height": 34
        }
      },
      "cell_type": "code",
      "source": [
        "print(train_data.shape, test_data.shape)"
      ],
      "execution_count": 0,
      "outputs": [
        {
          "output_type": "stream",
          "text": [
            "(25000,) (25000,)\n"
          ],
          "name": "stdout"
        }
      ]
    },
    {
      "metadata": {
        "id": "7TJ9J45Cwkc6",
        "colab_type": "code",
        "outputId": "82f1addb-0961-4cda-8b50-58a258e5c43e",
        "colab": {
          "base_uri": "https://localhost:8080/",
          "height": 3723
        }
      },
      "cell_type": "code",
      "source": [
        "train_data[0]"
      ],
      "execution_count": 0,
      "outputs": [
        {
          "output_type": "execute_result",
          "data": {
            "text/plain": [
              "[1,\n",
              " 14,\n",
              " 22,\n",
              " 16,\n",
              " 43,\n",
              " 530,\n",
              " 973,\n",
              " 1622,\n",
              " 1385,\n",
              " 65,\n",
              " 458,\n",
              " 4468,\n",
              " 66,\n",
              " 3941,\n",
              " 4,\n",
              " 173,\n",
              " 36,\n",
              " 256,\n",
              " 5,\n",
              " 25,\n",
              " 100,\n",
              " 43,\n",
              " 838,\n",
              " 112,\n",
              " 50,\n",
              " 670,\n",
              " 2,\n",
              " 9,\n",
              " 35,\n",
              " 480,\n",
              " 284,\n",
              " 5,\n",
              " 150,\n",
              " 4,\n",
              " 172,\n",
              " 112,\n",
              " 167,\n",
              " 2,\n",
              " 336,\n",
              " 385,\n",
              " 39,\n",
              " 4,\n",
              " 172,\n",
              " 4536,\n",
              " 1111,\n",
              " 17,\n",
              " 546,\n",
              " 38,\n",
              " 13,\n",
              " 447,\n",
              " 4,\n",
              " 192,\n",
              " 50,\n",
              " 16,\n",
              " 6,\n",
              " 147,\n",
              " 2025,\n",
              " 19,\n",
              " 14,\n",
              " 22,\n",
              " 4,\n",
              " 1920,\n",
              " 4613,\n",
              " 469,\n",
              " 4,\n",
              " 22,\n",
              " 71,\n",
              " 87,\n",
              " 12,\n",
              " 16,\n",
              " 43,\n",
              " 530,\n",
              " 38,\n",
              " 76,\n",
              " 15,\n",
              " 13,\n",
              " 1247,\n",
              " 4,\n",
              " 22,\n",
              " 17,\n",
              " 515,\n",
              " 17,\n",
              " 12,\n",
              " 16,\n",
              " 626,\n",
              " 18,\n",
              " 2,\n",
              " 5,\n",
              " 62,\n",
              " 386,\n",
              " 12,\n",
              " 8,\n",
              " 316,\n",
              " 8,\n",
              " 106,\n",
              " 5,\n",
              " 4,\n",
              " 2223,\n",
              " 5244,\n",
              " 16,\n",
              " 480,\n",
              " 66,\n",
              " 3785,\n",
              " 33,\n",
              " 4,\n",
              " 130,\n",
              " 12,\n",
              " 16,\n",
              " 38,\n",
              " 619,\n",
              " 5,\n",
              " 25,\n",
              " 124,\n",
              " 51,\n",
              " 36,\n",
              " 135,\n",
              " 48,\n",
              " 25,\n",
              " 1415,\n",
              " 33,\n",
              " 6,\n",
              " 22,\n",
              " 12,\n",
              " 215,\n",
              " 28,\n",
              " 77,\n",
              " 52,\n",
              " 5,\n",
              " 14,\n",
              " 407,\n",
              " 16,\n",
              " 82,\n",
              " 2,\n",
              " 8,\n",
              " 4,\n",
              " 107,\n",
              " 117,\n",
              " 5952,\n",
              " 15,\n",
              " 256,\n",
              " 4,\n",
              " 2,\n",
              " 7,\n",
              " 3766,\n",
              " 5,\n",
              " 723,\n",
              " 36,\n",
              " 71,\n",
              " 43,\n",
              " 530,\n",
              " 476,\n",
              " 26,\n",
              " 400,\n",
              " 317,\n",
              " 46,\n",
              " 7,\n",
              " 4,\n",
              " 2,\n",
              " 1029,\n",
              " 13,\n",
              " 104,\n",
              " 88,\n",
              " 4,\n",
              " 381,\n",
              " 15,\n",
              " 297,\n",
              " 98,\n",
              " 32,\n",
              " 2071,\n",
              " 56,\n",
              " 26,\n",
              " 141,\n",
              " 6,\n",
              " 194,\n",
              " 7486,\n",
              " 18,\n",
              " 4,\n",
              " 226,\n",
              " 22,\n",
              " 21,\n",
              " 134,\n",
              " 476,\n",
              " 26,\n",
              " 480,\n",
              " 5,\n",
              " 144,\n",
              " 30,\n",
              " 5535,\n",
              " 18,\n",
              " 51,\n",
              " 36,\n",
              " 28,\n",
              " 224,\n",
              " 92,\n",
              " 25,\n",
              " 104,\n",
              " 4,\n",
              " 226,\n",
              " 65,\n",
              " 16,\n",
              " 38,\n",
              " 1334,\n",
              " 88,\n",
              " 12,\n",
              " 16,\n",
              " 283,\n",
              " 5,\n",
              " 16,\n",
              " 4472,\n",
              " 113,\n",
              " 103,\n",
              " 32,\n",
              " 15,\n",
              " 16,\n",
              " 5345,\n",
              " 19,\n",
              " 178,\n",
              " 32]"
            ]
          },
          "metadata": {
            "tags": []
          },
          "execution_count": 17
        }
      ]
    },
    {
      "metadata": {
        "id": "r7GO8GIywqUx",
        "colab_type": "code",
        "outputId": "77c464f0-a3bd-454f-b683-e133e3730e1e",
        "colab": {
          "base_uri": "https://localhost:8080/",
          "height": 34
        }
      },
      "cell_type": "code",
      "source": [
        "max(max(train_data))"
      ],
      "execution_count": 0,
      "outputs": [
        {
          "output_type": "execute_result",
          "data": {
            "text/plain": [
              "9995"
            ]
          },
          "metadata": {
            "tags": []
          },
          "execution_count": 18
        }
      ]
    },
    {
      "metadata": {
        "id": "jOv-xmsRw4sr",
        "colab_type": "code",
        "outputId": "fdbec851-34d9-4bcf-aab3-b39ea9c8d3e4",
        "colab": {
          "base_uri": "https://localhost:8080/",
          "height": 34
        }
      },
      "cell_type": "code",
      "source": [
        "max([max(sequence) for sequence in train_data])"
      ],
      "execution_count": 0,
      "outputs": [
        {
          "output_type": "execute_result",
          "data": {
            "text/plain": [
              "9999"
            ]
          },
          "metadata": {
            "tags": []
          },
          "execution_count": 19
        }
      ]
    },
    {
      "metadata": {
        "id": "7v7UlbcD4pIk",
        "colab_type": "code",
        "outputId": "922cf8b0-4bdc-4e3c-b814-171060ecbc03",
        "colab": {
          "base_uri": "https://localhost:8080/",
          "height": 88
        }
      },
      "cell_type": "code",
      "source": [
        "#@title 解码\n",
        "word_index = imdb.get_word_index()\n",
        "#reverse_word_index = dict([(value, key) for (key, value) in word_index.items()])\n",
        "reverse_word_index = {value: key for key, value in word_index.items()}\n",
        "decoded_review = ' '.join([reverse_word_index.get(i -3, '?') for i in train_data[0]])\n",
        "print(decoded_review)"
      ],
      "execution_count": 0,
      "outputs": [
        {
          "output_type": "stream",
          "text": [
            "Downloading data from https://s3.amazonaws.com/text-datasets/imdb_word_index.json\n",
            "1646592/1641221 [==============================] - 0s 0us/step\n",
            "? this film was just brilliant casting location scenery story direction everyone's really suited the part they played and you could just imagine being there robert ? is an amazing actor and now the same being director ? father came from the same scottish island as myself so i loved the fact there was a real connection with this film the witty remarks throughout the film were great it was just brilliant so much that i bought the film as soon as it was released for ? and would recommend it to everyone to watch and the fly fishing was amazing really cried at the end it was so sad and you know what they say if you cry at a film it must have been good and this definitely was also ? to the two little boy's that played the ? of norman and paul they were just brilliant children are often left out of the ? list i think because the stars that play them all grown up are such a big profile for the whole film but these children are amazing and should be praised for what they have done don't you think the whole story was so lovely because it was true and was someone's life after all that was shared with us all\n"
          ],
          "name": "stdout"
        }
      ]
    },
    {
      "metadata": {
        "id": "TbOJb51SOaml",
        "colab_type": "code",
        "colab": {}
      },
      "cell_type": "code",
      "source": [
        "import numpy as np\n",
        "\n",
        "def vectorize_sequences(sequences, dimension=10000):\n",
        "  results = np.zeros((len(sequences), dimension))\n",
        "  for i, sequence in enumerate(sequences):\n",
        "    results[i, sequence] = 1\n",
        "  return results\n",
        "\n",
        "x_train = vectorize_sequences(train_data)\n",
        "x_test = vectorize_sequences(test_data)"
      ],
      "execution_count": 0,
      "outputs": []
    },
    {
      "metadata": {
        "id": "OwTW0W93PtoD",
        "colab_type": "code",
        "colab": {}
      },
      "cell_type": "code",
      "source": [
        "y_train = np.asarray(train_labels).astype('float32')\n",
        "y_test = np.asarray(test_labels).astype('float32')"
      ],
      "execution_count": 0,
      "outputs": []
    },
    {
      "metadata": {
        "id": "quEu7sXURnrK",
        "colab_type": "code",
        "outputId": "1865b6fc-1c03-4f3a-c91f-0ae2402a4059",
        "colab": {
          "base_uri": "https://localhost:8080/",
          "height": 34
        }
      },
      "cell_type": "code",
      "source": [
        "y_test"
      ],
      "execution_count": 0,
      "outputs": [
        {
          "output_type": "execute_result",
          "data": {
            "text/plain": [
              "array([0., 1., 1., ..., 0., 0., 0.], dtype=float32)"
            ]
          },
          "metadata": {
            "tags": []
          },
          "execution_count": 23
        }
      ]
    },
    {
      "metadata": {
        "id": "TGIE5D3NYqU3",
        "colab_type": "code",
        "colab": {}
      },
      "cell_type": "code",
      "source": [
        "from keras import models, layers\n",
        "\n",
        "model = models.Sequential()\n",
        "model.add(layers.Dense(16, activation='relu', input_shape=(10000,)))\n",
        "model.add(layers.Dense(16, activation='relu'))\n",
        "model.add(layers.Dense(1, activation='sigmoid'))"
      ],
      "execution_count": 0,
      "outputs": []
    },
    {
      "metadata": {
        "id": "1zNYxMldLjqq",
        "colab_type": "code",
        "colab": {}
      },
      "cell_type": "code",
      "source": [
        "model.compile(optimizer='rmsprop', loss='binary_crossentropy', metrics=['accuracy'])"
      ],
      "execution_count": 0,
      "outputs": []
    },
    {
      "metadata": {
        "id": "3D2TgKbBMB3J",
        "colab_type": "code",
        "colab": {}
      },
      "cell_type": "code",
      "source": [
        "#@title 配置优化器，使用自定义的损失和指标\n",
        "from keras import optimizers, losses, metrics\n",
        "\n",
        "model.compile(optimizer=optimizers.RMSprop(lr=0.001),\n",
        "            loss=losses.binary_crossentropy,\n",
        "            metrics=[metrics.binary_accuracy])"
      ],
      "execution_count": 0,
      "outputs": []
    },
    {
      "metadata": {
        "id": "wkJHf3PUMpLc",
        "colab_type": "code",
        "colab": {}
      },
      "cell_type": "code",
      "source": [
        "#@title 预留验证集\n",
        "x_val = x_train[:10000]\n",
        "partial_x_train = x_train[10000:]\n",
        "\n",
        "y_val = y_train[:10000]\n",
        "partial_y_train = y_train[10000:]"
      ],
      "execution_count": 0,
      "outputs": []
    },
    {
      "metadata": {
        "id": "JMWLXm0ONLFF",
        "colab_type": "code",
        "outputId": "26b6583d-2ac8-499d-b82a-dad8db0b87ed",
        "colab": {
          "base_uri": "https://localhost:8080/",
          "height": 734
        }
      },
      "cell_type": "code",
      "source": [
        "model.compile(optimizer='rmsprop', loss='binary_crossentropy', metrics=['acc'])\n",
        "history = model.fit(partial_x_train, partial_y_train, epochs=20, batch_size=512, validation_data=(x_val, y_val))"
      ],
      "execution_count": 0,
      "outputs": [
        {
          "output_type": "stream",
          "text": [
            "Train on 15000 samples, validate on 10000 samples\n",
            "Epoch 1/20\n",
            "15000/15000 [==============================] - 2s 120us/step - loss: 0.5499 - acc: 0.7677 - val_loss: 0.4321 - val_acc: 0.8679\n",
            "Epoch 2/20\n",
            "15000/15000 [==============================] - 2s 119us/step - loss: 0.3465 - acc: 0.8951 - val_loss: 0.3438 - val_acc: 0.8659\n",
            "Epoch 3/20\n",
            "15000/15000 [==============================] - 2s 120us/step - loss: 0.2508 - acc: 0.9211 - val_loss: 0.2903 - val_acc: 0.8908\n",
            "Epoch 4/20\n",
            "15000/15000 [==============================] - 2s 119us/step - loss: 0.1934 - acc: 0.9391 - val_loss: 0.2843 - val_acc: 0.8883\n",
            "Epoch 5/20\n",
            "15000/15000 [==============================] - 2s 118us/step - loss: 0.1574 - acc: 0.9508 - val_loss: 0.2945 - val_acc: 0.8838\n",
            "Epoch 6/20\n",
            "15000/15000 [==============================] - 2s 117us/step - loss: 0.1281 - acc: 0.9617 - val_loss: 0.2898 - val_acc: 0.8871\n",
            "Epoch 7/20\n",
            "15000/15000 [==============================] - 2s 118us/step - loss: 0.1065 - acc: 0.9688 - val_loss: 0.3084 - val_acc: 0.8815\n",
            "Epoch 8/20\n",
            "15000/15000 [==============================] - 2s 119us/step - loss: 0.0881 - acc: 0.9750 - val_loss: 0.3258 - val_acc: 0.8801\n",
            "Epoch 9/20\n",
            "15000/15000 [==============================] - 2s 120us/step - loss: 0.0707 - acc: 0.9822 - val_loss: 0.3414 - val_acc: 0.8804\n",
            "Epoch 10/20\n",
            "15000/15000 [==============================] - 2s 118us/step - loss: 0.0585 - acc: 0.9865 - val_loss: 0.4117 - val_acc: 0.8724\n",
            "Epoch 11/20\n",
            "15000/15000 [==============================] - 2s 118us/step - loss: 0.0485 - acc: 0.9887 - val_loss: 0.3921 - val_acc: 0.8770\n",
            "Epoch 12/20\n",
            "15000/15000 [==============================] - 2s 118us/step - loss: 0.0375 - acc: 0.9927 - val_loss: 0.4445 - val_acc: 0.8753\n",
            "Epoch 13/20\n",
            "15000/15000 [==============================] - 2s 120us/step - loss: 0.0306 - acc: 0.9939 - val_loss: 0.4608 - val_acc: 0.8755\n",
            "Epoch 14/20\n",
            "15000/15000 [==============================] - 2s 116us/step - loss: 0.0253 - acc: 0.9954 - val_loss: 0.4894 - val_acc: 0.8734\n",
            "Epoch 15/20\n",
            "15000/15000 [==============================] - 2s 114us/step - loss: 0.0184 - acc: 0.9975 - val_loss: 0.5173 - val_acc: 0.8672\n",
            "Epoch 16/20\n",
            "15000/15000 [==============================] - 2s 113us/step - loss: 0.0153 - acc: 0.9976 - val_loss: 0.5463 - val_acc: 0.8703\n",
            "Epoch 17/20\n",
            "15000/15000 [==============================] - 2s 111us/step - loss: 0.0094 - acc: 0.9990 - val_loss: 0.5796 - val_acc: 0.8683\n",
            "Epoch 18/20\n",
            "15000/15000 [==============================] - 2s 113us/step - loss: 0.0082 - acc: 0.9991 - val_loss: 0.6475 - val_acc: 0.8596\n",
            "Epoch 19/20\n",
            "15000/15000 [==============================] - 2s 115us/step - loss: 0.0083 - acc: 0.9983 - val_loss: 0.6519 - val_acc: 0.8676\n",
            "Epoch 20/20\n",
            "15000/15000 [==============================] - 2s 115us/step - loss: 0.0034 - acc: 0.9997 - val_loss: 0.6822 - val_acc: 0.8675\n"
          ],
          "name": "stdout"
        }
      ]
    },
    {
      "metadata": {
        "id": "7hlzeF6nNmcY",
        "colab_type": "code",
        "outputId": "b2a70f2b-4492-41e5-9ac9-7df94b8a5057",
        "colab": {
          "base_uri": "https://localhost:8080/",
          "height": 34
        }
      },
      "cell_type": "code",
      "source": [
        "history_dict = history.history\n",
        "history_dict.keys()"
      ],
      "execution_count": 0,
      "outputs": [
        {
          "output_type": "execute_result",
          "data": {
            "text/plain": [
              "dict_keys(['val_loss', 'val_acc', 'loss', 'acc'])"
            ]
          },
          "metadata": {
            "tags": []
          },
          "execution_count": 36
        }
      ]
    },
    {
      "metadata": {
        "id": "vznpaLKDN2jl",
        "colab_type": "code",
        "outputId": "09008b87-f3a0-49be-9c4b-22f91253f731",
        "colab": {
          "base_uri": "https://localhost:8080/",
          "height": 376
        }
      },
      "cell_type": "code",
      "source": [
        "import matplotlib.pyplot as plt\n",
        "\n",
        "history_dict = history.history\n",
        "loss_values = history_dict['loss']\n",
        "val_loss_values = history_dict['val_loss']\n",
        "epochs = range(1, len(loss_values) + 1)\n",
        "\n",
        "plt.plot(epochs, loss_values, 'bo', label='Train loss')\n",
        "plt.plot(epochs, val_loss_values, 'b', label='Validation loss')\n",
        "plt.title('Training and validation loss')\n",
        "plt.xlabel('Epochs')\n",
        "plt.ylabel('Loss')\n",
        "plt.legend()\n",
        "plt.show()"
      ],
      "execution_count": 0,
      "outputs": [
        {
          "output_type": "display_data",
          "data": {
            "image/png": "[encoded data removed]",
            "text/plain": [
              "<Figure size 576x396 with 1 Axes>"
            ]
          },
          "metadata": {
            "tags": []
          }
        }
      ]
    },
    {
      "metadata": {
        "id": "_pJ46jObOe7R",
        "colab_type": "code",
        "outputId": "e49c3a76-8609-423e-9a79-36bac8f48a4a",
        "colab": {
          "base_uri": "https://localhost:8080/",
          "height": 376
        }
      },
      "cell_type": "code",
      "source": [
        "plt.clf()\n",
        "acc = history_dict['acc']\n",
        "val_acc = history_dict['val_acc']\n",
        "\n",
        "plt.plot(epochs, acc, 'bo', label='Training acc')\n",
        "plt.plot(epochs, val_acc, 'b', label='Validation acc')\n",
        "plt.title('Training and validation accuracy')\n",
        "plt.xlabel('Epochs')\n",
        "plt.ylabel('Accuracy')\n",
        "plt.legend()\n",
        "plt.show()"
      ],
      "execution_count": 0,
      "outputs": [
        {
          "output_type": "display_data",
          "data": {
            "image/png": "[encoded data removed]",
            "text/plain": [
              "<Figure size 576x396 with 1 Axes>"
            ]
          },
          "metadata": {
            "tags": []
          }
        }
      ]
    },
    {
      "metadata": {
        "id": "Jhphd57gPBZw",
        "colab_type": "code",
        "outputId": "127d8b0c-925d-4bb7-ed91-9c3abfc4a625",
        "colab": {
          "base_uri": "https://localhost:8080/",
          "height": 207
        }
      },
      "cell_type": "code",
      "source": [
        "model = models.Sequential()\n",
        "model.add(layers.Dense(16, activation='relu', input_shape=(10000,)))\n",
        "model.add(layers.Dense(16, activation='relu'))\n",
        "model.add(layers.Dense(1, activation='sigmoid'))\n",
        "\n",
        "model.compile(optimizer='rmsprop', loss='binary_crossentropy', metrics=['accuracy'])\n",
        "model.fit(x_train, y_train, epochs=4, batch_size=512)\n",
        "result = model.evaluate(x_test, y_test)\n",
        "\n",
        "result"
      ],
      "execution_count": 0,
      "outputs": [
        {
          "output_type": "stream",
          "text": [
            "Epoch 1/4\n",
            "25000/25000 [==============================] - 2s 78us/step - loss: 0.4749 - acc: 0.8217\n",
            "Epoch 2/4\n",
            "25000/25000 [==============================] - 2s 71us/step - loss: 0.2666 - acc: 0.9096\n",
            "Epoch 3/4\n",
            "25000/25000 [==============================] - 2s 82us/step - loss: 0.1987 - acc: 0.9292\n",
            "Epoch 4/4\n",
            "25000/25000 [==============================] - 2s 82us/step - loss: 0.1679 - acc: 0.9402\n",
            "25000/25000 [==============================] - 4s 163us/step\n"
          ],
          "name": "stdout"
        },
        {
          "output_type": "execute_result",
          "data": {
            "text/plain": [
              "[0.3238553698825836, 0.87308]"
            ]
          },
          "metadata": {
            "tags": []
          },
          "execution_count": 42
        }
      ]
    },
    {
      "metadata": {
        "id": "ECA1mcdmP6ar",
        "colab_type": "code",
        "outputId": "25f87325-36ca-407a-c8cc-0ceab5269943",
        "colab": {
          "base_uri": "https://localhost:8080/",
          "height": 136
        }
      },
      "cell_type": "code",
      "source": [
        "model.predict(x_test)"
      ],
      "execution_count": 0,
      "outputs": [
        {
          "output_type": "execute_result",
          "data": {
            "text/plain": [
              "array([[0.13560075],\n",
              "       [0.9997118 ],\n",
              "       [0.27816346],\n",
              "       ...,\n",
              "       [0.07139969],\n",
              "       [0.04283793],\n",
              "       [0.47383907]], dtype=float32)"
            ]
          },
          "metadata": {
            "tags": []
          },
          "execution_count": 43
        }
      ]
    },
    {
      "metadata": {
        "id": "R7JqRRYxQvuE",
        "colab_type": "text"
      },
      "cell_type": "markdown",
      "source": [
        "## 3.5 新闻分类：多分类问题"
      ]
    },
    {
      "metadata": {
        "id": "PpkWrAdAdbEC",
        "colab_type": "text"
      },
      "cell_type": "markdown",
      "source": [
        "## 3.6 预测房价：回归问题"
      ]
    },
    {
      "metadata": {
        "id": "nG9QL68xQBjg",
        "colab_type": "code",
        "colab": {}
      },
      "cell_type": "code",
      "source": [
        ""
      ],
      "execution_count": 0,
      "outputs": []
    },
    {
      "metadata": {
        "id": "JOzpmakZFJsQ",
        "colab_type": "code",
        "colab": {}
      },
      "cell_type": "code",
      "source": [
        ""
      ],
      "execution_count": 0,
      "outputs": []
    }
  ]
}